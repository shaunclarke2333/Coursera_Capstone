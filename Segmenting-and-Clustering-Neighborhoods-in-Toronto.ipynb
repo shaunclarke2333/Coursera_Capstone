{
 "cells": [
  {
   "cell_type": "code",
   "execution_count": 1,
   "metadata": {},
   "outputs": [],
   "source": [
    "#importing depedencies\n",
    "import pandas as pd"
   ]
  },
  {
   "cell_type": "code",
   "execution_count": 2,
   "metadata": {},
   "outputs": [],
   "source": [
    "#pulled canada postal code table from website into dataframe\n",
    "url=\"https://en.wikipedia.org/wiki/List_of_postal_codes_of_Canada:_M\"\n",
    "tables = pd.read_html(url)\n",
    "table_df = tables[0]"
   ]
  },
  {
   "cell_type": "code",
   "execution_count": 3,
   "metadata": {},
   "outputs": [
    {
     "data": {
      "text/html": [
       "<div>\n",
       "<style scoped>\n",
       "    .dataframe tbody tr th:only-of-type {\n",
       "        vertical-align: middle;\n",
       "    }\n",
       "\n",
       "    .dataframe tbody tr th {\n",
       "        vertical-align: top;\n",
       "    }\n",
       "\n",
       "    .dataframe thead th {\n",
       "        text-align: right;\n",
       "    }\n",
       "</style>\n",
       "<table border=\"1\" class=\"dataframe\">\n",
       "  <thead>\n",
       "    <tr style=\"text-align: right;\">\n",
       "      <th></th>\n",
       "      <th>Postcode</th>\n",
       "      <th>Borough</th>\n",
       "      <th>Neighbourhood</th>\n",
       "    </tr>\n",
       "  </thead>\n",
       "  <tbody>\n",
       "    <tr>\n",
       "      <th>0</th>\n",
       "      <td>M1A</td>\n",
       "      <td>Not assigned</td>\n",
       "      <td>Not assigned</td>\n",
       "    </tr>\n",
       "    <tr>\n",
       "      <th>1</th>\n",
       "      <td>M2A</td>\n",
       "      <td>Not assigned</td>\n",
       "      <td>Not assigned</td>\n",
       "    </tr>\n",
       "  </tbody>\n",
       "</table>\n",
       "</div>"
      ],
      "text/plain": [
       "  Postcode       Borough Neighbourhood\n",
       "0      M1A  Not assigned  Not assigned\n",
       "1      M2A  Not assigned  Not assigned"
      ]
     },
     "execution_count": 3,
     "metadata": {},
     "output_type": "execute_result"
    }
   ],
   "source": [
    "#display first 2 columns of the postalcode df\n",
    "table_df.head(2)"
   ]
  },
  {
   "cell_type": "code",
   "execution_count": 4,
   "metadata": {},
   "outputs": [],
   "source": [
    "# chancge column name from Postcode to PostalCode\n",
    "table_df = table_df.rename(columns={\"Postcode\":\"PostalCode\"})"
   ]
  },
  {
   "cell_type": "code",
   "execution_count": 5,
   "metadata": {},
   "outputs": [],
   "source": [
    "# removing rows where the Borough is unassigned\n",
    "table_df=table_df[table_df[\"Borough\"]!= \"Not assigned\"]"
   ]
  },
  {
   "cell_type": "code",
   "execution_count": 6,
   "metadata": {},
   "outputs": [
    {
     "data": {
      "text/html": [
       "<div>\n",
       "<style scoped>\n",
       "    .dataframe tbody tr th:only-of-type {\n",
       "        vertical-align: middle;\n",
       "    }\n",
       "\n",
       "    .dataframe tbody tr th {\n",
       "        vertical-align: top;\n",
       "    }\n",
       "\n",
       "    .dataframe thead th {\n",
       "        text-align: right;\n",
       "    }\n",
       "</style>\n",
       "<table border=\"1\" class=\"dataframe\">\n",
       "  <thead>\n",
       "    <tr style=\"text-align: right;\">\n",
       "      <th></th>\n",
       "      <th>PostalCode</th>\n",
       "      <th>Borough</th>\n",
       "      <th>Neighbourhood</th>\n",
       "    </tr>\n",
       "  </thead>\n",
       "  <tbody>\n",
       "    <tr>\n",
       "      <th>2</th>\n",
       "      <td>M3A</td>\n",
       "      <td>North York</td>\n",
       "      <td>Parkwoods</td>\n",
       "    </tr>\n",
       "    <tr>\n",
       "      <th>3</th>\n",
       "      <td>M4A</td>\n",
       "      <td>North York</td>\n",
       "      <td>Victoria Village</td>\n",
       "    </tr>\n",
       "    <tr>\n",
       "      <th>4</th>\n",
       "      <td>M5A</td>\n",
       "      <td>Downtown Toronto</td>\n",
       "      <td>Harbourfront</td>\n",
       "    </tr>\n",
       "  </tbody>\n",
       "</table>\n",
       "</div>"
      ],
      "text/plain": [
       "  PostalCode           Borough     Neighbourhood\n",
       "2        M3A        North York         Parkwoods\n",
       "3        M4A        North York  Victoria Village\n",
       "4        M5A  Downtown Toronto      Harbourfront"
      ]
     },
     "execution_count": 6,
     "metadata": {},
     "output_type": "execute_result"
    }
   ],
   "source": [
    "table_df.head(3)"
   ]
  },
  {
   "cell_type": "code",
   "execution_count": 7,
   "metadata": {},
   "outputs": [
    {
     "data": {
      "text/html": [
       "<div>\n",
       "<style scoped>\n",
       "    .dataframe tbody tr th:only-of-type {\n",
       "        vertical-align: middle;\n",
       "    }\n",
       "\n",
       "    .dataframe tbody tr th {\n",
       "        vertical-align: top;\n",
       "    }\n",
       "\n",
       "    .dataframe thead th {\n",
       "        text-align: right;\n",
       "    }\n",
       "</style>\n",
       "<table border=\"1\" class=\"dataframe\">\n",
       "  <thead>\n",
       "    <tr style=\"text-align: right;\">\n",
       "      <th></th>\n",
       "      <th></th>\n",
       "      <th>Neighbourhood</th>\n",
       "    </tr>\n",
       "    <tr>\n",
       "      <th>PostalCode</th>\n",
       "      <th>Borough</th>\n",
       "      <th></th>\n",
       "    </tr>\n",
       "  </thead>\n",
       "  <tbody>\n",
       "    <tr>\n",
       "      <th>M3A</th>\n",
       "      <th>North York</th>\n",
       "      <td>Parkwoods</td>\n",
       "    </tr>\n",
       "    <tr>\n",
       "      <th>M4A</th>\n",
       "      <th>North York</th>\n",
       "      <td>Victoria Village</td>\n",
       "    </tr>\n",
       "    <tr>\n",
       "      <th>M5A</th>\n",
       "      <th>Downtown Toronto</th>\n",
       "      <td>Harbourfront,Regent Park</td>\n",
       "    </tr>\n",
       "    <tr>\n",
       "      <th>M6A</th>\n",
       "      <th>North York</th>\n",
       "      <td>Lawrence Heights,Lawrence Manor</td>\n",
       "    </tr>\n",
       "    <tr>\n",
       "      <th>M7A</th>\n",
       "      <th>Queen's Park</th>\n",
       "      <td>Not assigned</td>\n",
       "    </tr>\n",
       "  </tbody>\n",
       "</table>\n",
       "</div>"
      ],
      "text/plain": [
       "                                               Neighbourhood\n",
       "PostalCode Borough                                          \n",
       "M3A        North York                              Parkwoods\n",
       "M4A        North York                       Victoria Village\n",
       "M5A        Downtown Toronto         Harbourfront,Regent Park\n",
       "M6A        North York        Lawrence Heights,Lawrence Manor\n",
       "M7A        Queen's Park                         Not assigned"
      ]
     },
     "execution_count": 7,
     "metadata": {},
     "output_type": "execute_result"
    }
   ],
   "source": [
    "# grouping by postalcode and concatinating neighbourhood comma separated.\n",
    "table_df_concat = table_df.groupby(['PostalCode','Borough'], sort=False).agg( ','.join)\n",
    "table_df_concat.head()"
   ]
  },
  {
   "cell_type": "code",
   "execution_count": 8,
   "metadata": {},
   "outputs": [],
   "source": [
    "# resetting table index\n",
    "table_df_concat = table_df_concat.reset_index()"
   ]
  },
  {
   "cell_type": "code",
   "execution_count": 9,
   "metadata": {},
   "outputs": [
    {
     "data": {
      "text/html": [
       "<div>\n",
       "<style scoped>\n",
       "    .dataframe tbody tr th:only-of-type {\n",
       "        vertical-align: middle;\n",
       "    }\n",
       "\n",
       "    .dataframe tbody tr th {\n",
       "        vertical-align: top;\n",
       "    }\n",
       "\n",
       "    .dataframe thead th {\n",
       "        text-align: right;\n",
       "    }\n",
       "</style>\n",
       "<table border=\"1\" class=\"dataframe\">\n",
       "  <thead>\n",
       "    <tr style=\"text-align: right;\">\n",
       "      <th></th>\n",
       "      <th>PostalCode</th>\n",
       "      <th>Borough</th>\n",
       "      <th>Neighbourhood</th>\n",
       "    </tr>\n",
       "  </thead>\n",
       "  <tbody>\n",
       "    <tr>\n",
       "      <th>8</th>\n",
       "      <td>M7A</td>\n",
       "      <td>Queen's Park</td>\n",
       "      <td>Not assigned</td>\n",
       "    </tr>\n",
       "  </tbody>\n",
       "</table>\n",
       "</div>"
      ],
      "text/plain": [
       "  PostalCode       Borough Neighbourhood\n",
       "8        M7A  Queen's Park  Not assigned"
      ]
     },
     "execution_count": 9,
     "metadata": {},
     "output_type": "execute_result"
    }
   ],
   "source": [
    "#filtering by neighbourhood that is not assigned\n",
    "no_neigh=table_df[table_df[\"Neighbourhood\"]== \"Not assigned\"]\n",
    "no_neigh"
   ]
  },
  {
   "cell_type": "code",
   "execution_count": 10,
   "metadata": {},
   "outputs": [],
   "source": [
    "#populating Not assigned cell in the neighbourhood column with a value\n",
    "table_df_concat.at[4, \"Neighbourhood\"]= \"Queen's Park\""
   ]
  },
  {
   "cell_type": "code",
   "execution_count": 11,
   "metadata": {},
   "outputs": [
    {
     "data": {
      "text/html": [
       "<div>\n",
       "<style scoped>\n",
       "    .dataframe tbody tr th:only-of-type {\n",
       "        vertical-align: middle;\n",
       "    }\n",
       "\n",
       "    .dataframe tbody tr th {\n",
       "        vertical-align: top;\n",
       "    }\n",
       "\n",
       "    .dataframe thead th {\n",
       "        text-align: right;\n",
       "    }\n",
       "</style>\n",
       "<table border=\"1\" class=\"dataframe\">\n",
       "  <thead>\n",
       "    <tr style=\"text-align: right;\">\n",
       "      <th></th>\n",
       "      <th>PostalCode</th>\n",
       "      <th>Borough</th>\n",
       "      <th>Neighbourhood</th>\n",
       "    </tr>\n",
       "  </thead>\n",
       "  <tbody>\n",
       "    <tr>\n",
       "      <th>0</th>\n",
       "      <td>M3A</td>\n",
       "      <td>North York</td>\n",
       "      <td>Parkwoods</td>\n",
       "    </tr>\n",
       "    <tr>\n",
       "      <th>1</th>\n",
       "      <td>M4A</td>\n",
       "      <td>North York</td>\n",
       "      <td>Victoria Village</td>\n",
       "    </tr>\n",
       "    <tr>\n",
       "      <th>2</th>\n",
       "      <td>M5A</td>\n",
       "      <td>Downtown Toronto</td>\n",
       "      <td>Harbourfront,Regent Park</td>\n",
       "    </tr>\n",
       "    <tr>\n",
       "      <th>3</th>\n",
       "      <td>M6A</td>\n",
       "      <td>North York</td>\n",
       "      <td>Lawrence Heights,Lawrence Manor</td>\n",
       "    </tr>\n",
       "    <tr>\n",
       "      <th>4</th>\n",
       "      <td>M7A</td>\n",
       "      <td>Queen's Park</td>\n",
       "      <td>Queen's Park</td>\n",
       "    </tr>\n",
       "  </tbody>\n",
       "</table>\n",
       "</div>"
      ],
      "text/plain": [
       "  PostalCode           Borough                    Neighbourhood\n",
       "0        M3A        North York                        Parkwoods\n",
       "1        M4A        North York                 Victoria Village\n",
       "2        M5A  Downtown Toronto         Harbourfront,Regent Park\n",
       "3        M6A        North York  Lawrence Heights,Lawrence Manor\n",
       "4        M7A      Queen's Park                     Queen's Park"
      ]
     },
     "execution_count": 11,
     "metadata": {},
     "output_type": "execute_result"
    }
   ],
   "source": [
    "#viewing changes made to \n",
    "table_df_concat.head()"
   ]
  },
  {
   "cell_type": "code",
   "execution_count": 12,
   "metadata": {},
   "outputs": [
    {
     "data": {
      "text/plain": [
       "(103, 3)"
      ]
     },
     "execution_count": 12,
     "metadata": {},
     "output_type": "execute_result"
    }
   ],
   "source": [
    "table_df_concat.shape"
   ]
  },
  {
   "cell_type": "code",
   "execution_count": 13,
   "metadata": {},
   "outputs": [
    {
     "data": {
      "text/html": [
       "<div>\n",
       "<style scoped>\n",
       "    .dataframe tbody tr th:only-of-type {\n",
       "        vertical-align: middle;\n",
       "    }\n",
       "\n",
       "    .dataframe tbody tr th {\n",
       "        vertical-align: top;\n",
       "    }\n",
       "\n",
       "    .dataframe thead th {\n",
       "        text-align: right;\n",
       "    }\n",
       "</style>\n",
       "<table border=\"1\" class=\"dataframe\">\n",
       "  <thead>\n",
       "    <tr style=\"text-align: right;\">\n",
       "      <th></th>\n",
       "      <th>PostalCode</th>\n",
       "      <th>Latitude</th>\n",
       "      <th>Longitude</th>\n",
       "    </tr>\n",
       "  </thead>\n",
       "  <tbody>\n",
       "    <tr>\n",
       "      <th>0</th>\n",
       "      <td>M1B</td>\n",
       "      <td>43.806686</td>\n",
       "      <td>-79.194353</td>\n",
       "    </tr>\n",
       "    <tr>\n",
       "      <th>1</th>\n",
       "      <td>M1C</td>\n",
       "      <td>43.784535</td>\n",
       "      <td>-79.160497</td>\n",
       "    </tr>\n",
       "    <tr>\n",
       "      <th>2</th>\n",
       "      <td>M1E</td>\n",
       "      <td>43.763573</td>\n",
       "      <td>-79.188711</td>\n",
       "    </tr>\n",
       "  </tbody>\n",
       "</table>\n",
       "</div>"
      ],
      "text/plain": [
       "  PostalCode   Latitude  Longitude\n",
       "0        M1B  43.806686 -79.194353\n",
       "1        M1C  43.784535 -79.160497\n",
       "2        M1E  43.763573 -79.188711"
      ]
     },
     "execution_count": 13,
     "metadata": {},
     "output_type": "execute_result"
    }
   ],
   "source": [
    "#importing lat long csv into dataframe\n",
    "url2=\"https://cocl.us/Geospatial_data\"\n",
    "csv = pd.read_csv(url2)\n",
    "lat_long_df = csv\n",
    "# chancge column name from Postal Code to PostalCode\n",
    "lat_long_df = lat_long_df.rename(columns={\"Postal Code\":\"PostalCode\"})\n",
    "lat_long_df.head(3)"
   ]
  },
  {
   "cell_type": "code",
   "execution_count": 14,
   "metadata": {},
   "outputs": [],
   "source": [
    "# merging postal dataframes on postal code column to create new table with lat long\n",
    "postalcode_df = pd.merge(lat_long_df, table_df_concat, on=\"PostalCode\")"
   ]
  },
  {
   "cell_type": "code",
   "execution_count": 15,
   "metadata": {},
   "outputs": [
    {
     "data": {
      "text/html": [
       "<div>\n",
       "<style scoped>\n",
       "    .dataframe tbody tr th:only-of-type {\n",
       "        vertical-align: middle;\n",
       "    }\n",
       "\n",
       "    .dataframe tbody tr th {\n",
       "        vertical-align: top;\n",
       "    }\n",
       "\n",
       "    .dataframe thead th {\n",
       "        text-align: right;\n",
       "    }\n",
       "</style>\n",
       "<table border=\"1\" class=\"dataframe\">\n",
       "  <thead>\n",
       "    <tr style=\"text-align: right;\">\n",
       "      <th></th>\n",
       "      <th>PostalCode</th>\n",
       "      <th>Borough</th>\n",
       "      <th>Neighbourhood</th>\n",
       "      <th>Latitude</th>\n",
       "      <th>Longitude</th>\n",
       "    </tr>\n",
       "  </thead>\n",
       "  <tbody>\n",
       "    <tr>\n",
       "      <th>0</th>\n",
       "      <td>M1B</td>\n",
       "      <td>Scarborough</td>\n",
       "      <td>Rouge,Malvern</td>\n",
       "      <td>43.806686</td>\n",
       "      <td>-79.194353</td>\n",
       "    </tr>\n",
       "    <tr>\n",
       "      <th>1</th>\n",
       "      <td>M1C</td>\n",
       "      <td>Scarborough</td>\n",
       "      <td>Highland Creek,Rouge Hill,Port Union</td>\n",
       "      <td>43.784535</td>\n",
       "      <td>-79.160497</td>\n",
       "    </tr>\n",
       "    <tr>\n",
       "      <th>2</th>\n",
       "      <td>M1E</td>\n",
       "      <td>Scarborough</td>\n",
       "      <td>Guildwood,Morningside,West Hill</td>\n",
       "      <td>43.763573</td>\n",
       "      <td>-79.188711</td>\n",
       "    </tr>\n",
       "    <tr>\n",
       "      <th>3</th>\n",
       "      <td>M1G</td>\n",
       "      <td>Scarborough</td>\n",
       "      <td>Woburn</td>\n",
       "      <td>43.770992</td>\n",
       "      <td>-79.216917</td>\n",
       "    </tr>\n",
       "    <tr>\n",
       "      <th>4</th>\n",
       "      <td>M1H</td>\n",
       "      <td>Scarborough</td>\n",
       "      <td>Cedarbrae</td>\n",
       "      <td>43.773136</td>\n",
       "      <td>-79.239476</td>\n",
       "    </tr>\n",
       "  </tbody>\n",
       "</table>\n",
       "</div>"
      ],
      "text/plain": [
       "  PostalCode      Borough                         Neighbourhood   Latitude  \\\n",
       "0        M1B  Scarborough                         Rouge,Malvern  43.806686   \n",
       "1        M1C  Scarborough  Highland Creek,Rouge Hill,Port Union  43.784535   \n",
       "2        M1E  Scarborough       Guildwood,Morningside,West Hill  43.763573   \n",
       "3        M1G  Scarborough                                Woburn  43.770992   \n",
       "4        M1H  Scarborough                             Cedarbrae  43.773136   \n",
       "\n",
       "   Longitude  \n",
       "0 -79.194353  \n",
       "1 -79.160497  \n",
       "2 -79.188711  \n",
       "3 -79.216917  \n",
       "4 -79.239476  "
      ]
     },
     "execution_count": 15,
     "metadata": {},
     "output_type": "execute_result"
    }
   ],
   "source": [
    "# rearranged dataframe columns\n",
    "postalcode_df = postalcode_df[[\"PostalCode\", \"Borough\", \"Neighbourhood\", \"Latitude\", \"Longitude\"]]\n",
    "postalcode_df.head()"
   ]
  },
  {
   "cell_type": "code",
   "execution_count": 16,
   "metadata": {},
   "outputs": [],
   "source": [
    "postalcode_df = postalcode_df.drop(columns = [\"PostalCode\"])"
   ]
  },
  {
   "cell_type": "code",
   "execution_count": 17,
   "metadata": {},
   "outputs": [],
   "source": [
    "# imported folium for map rendering \n",
    "import folium"
   ]
  },
  {
   "cell_type": "code",
   "execution_count": 18,
   "metadata": {
    "scrolled": true
   },
   "outputs": [
    {
     "data": {
      "text/html": [
       "<div style=\"width:100%;\"><div style=\"position:relative;width:100%;height:0;padding-bottom:60%;\"><iframe src=\"data:text/html;charset=utf-8;base64,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\" style=\"position:absolute;width:100%;height:100%;left:0;top:0;border:none !important;\" allowfullscreen webkitallowfullscreen mozallowfullscreen></iframe></div></div>"
      ],
      "text/plain": [
       "<folium.folium.Map at 0x1194fcbe128>"
      ]
     },
     "execution_count": 18,
     "metadata": {},
     "output_type": "execute_result"
    }
   ],
   "source": [
    "#Generating initial map\n",
    "map_toronto = folium.Map(location=[43.651070, -79.347015], tiles='Stamen Terrain', zoom_start=10)\n",
    "map_toronto\n",
    "\n",
    "# adding markers to map of tornoto Canada\n",
    "for lat, lng, borough, neighborhood in zip(postalcode_df['Latitude'], \\\n",
    "                                           postalcode_df['Longitude'], \\\n",
    "                                           postalcode_df['Borough'], \\\n",
    "                                           postalcode_df['Neighbourhood']):\n",
    "    label = '{}, {}'.format(neighborhood, borough)\n",
    "    label = folium.Popup(label, parse_html=True)\n",
    "    folium.CircleMarker(\n",
    "        [lat, lng],\n",
    "        radius=5,\n",
    "        popup=label,\n",
    "        color='red',\n",
    "        fill=True,\n",
    "        fill_color='#3186cc',\n",
    "        fill_opacity=0.7,\n",
    "        parse_html=False).add_to(map_toronto)  \n",
    "    \n",
    "map_toronto"
   ]
  },
  {
   "cell_type": "code",
   "execution_count": 19,
   "metadata": {},
   "outputs": [],
   "source": [
    "#importing client ID and client secret from config file. used this method so i can use git ignore to protect api key\n",
    "from config import client_id, client_secret"
   ]
  },
  {
   "cell_type": "code",
   "execution_count": 20,
   "metadata": {},
   "outputs": [],
   "source": [
    "# creating API variables\n",
    "CLIENT_ID = client_id \n",
    "CLIENT_SECRET = client_secret \n",
    "VERSION = '20180605' "
   ]
  },
  {
   "cell_type": "code",
   "execution_count": 21,
   "metadata": {},
   "outputs": [],
   "source": [
    "#importing required libraries\n",
    "from sklearn.cluster import KMeans\n",
    "import numpy as np\n",
    "import requests"
   ]
  },
  {
   "cell_type": "code",
   "execution_count": 22,
   "metadata": {},
   "outputs": [],
   "source": [
    "#the function below pulls the top 100 venues within a 500m radius of toronto neighborhoods\n",
    "def getNearbyVenues(names, latitudes, longitudes, LIMIT=100, radius=500):\n",
    "    \n",
    "    venues_list=[]\n",
    "    for name, lat, lng in zip(names, latitudes, longitudes):\n",
    "        print(name)\n",
    "            \n",
    "        # create the API request URL\n",
    "        url = 'https://api.foursquare.com/v2/venues/explore?&client_id={}&client_secret={}&v={}&ll={},{}&radius={}&limit={}'.format(\n",
    "            CLIENT_ID, \n",
    "            CLIENT_SECRET, \n",
    "            VERSION, \n",
    "            lat, \n",
    "            lng, \n",
    "            radius, \n",
    "            LIMIT)\n",
    "            \n",
    "        # make the GET request\n",
    "        results = requests.get(url).json()[\"response\"]['groups'][0]['items']\n",
    "        \n",
    "        # return only relevant information for each nearby venue\n",
    "        venues_list.append([(\n",
    "            name, \n",
    "            lat, \n",
    "            lng, \n",
    "            v['venue']['name'], \n",
    "            v['venue']['location']['lat'], \n",
    "            v['venue']['location']['lng'],  \n",
    "            v['venue']['categories'][0]['name']) for v in results])\n",
    "\n",
    "    nearby_venues = pd.DataFrame([item for venue_list in venues_list for item in venue_list])\n",
    "    nearby_venues.columns = ['Neighborhood', \n",
    "                  'Neighborhood Latitude', \n",
    "                  'Neighborhood Longitude', \n",
    "                  'Venue', \n",
    "                  'Venue Latitude', \n",
    "                  'Venue Longitude', \n",
    "                  'Venue Category']\n",
    "    \n",
    "    return(nearby_venues)"
   ]
  },
  {
   "cell_type": "code",
   "execution_count": 24,
   "metadata": {
    "scrolled": true
   },
   "outputs": [
    {
     "name": "stdout",
     "output_type": "stream",
     "text": [
      "Rouge,Malvern\n",
      "Highland Creek,Rouge Hill,Port Union\n",
      "Guildwood,Morningside,West Hill\n",
      "Woburn\n",
      "Cedarbrae\n",
      "Scarborough Village\n",
      "East Birchmount Park,Ionview,Kennedy Park\n",
      "Clairlea,Golden Mile,Oakridge\n",
      "Cliffcrest,Cliffside,Scarborough Village West\n",
      "Birch Cliff,Cliffside West\n",
      "Dorset Park,Scarborough Town Centre,Wexford Heights\n",
      "Maryvale,Wexford\n",
      "Agincourt\n",
      "Clarks Corners,Sullivan,Tam O'Shanter\n",
      "Agincourt North,L'Amoreaux East,Milliken,Steeles East\n",
      "L'Amoreaux West\n",
      "Upper Rouge\n",
      "Hillcrest Village\n",
      "Fairview,Henry Farm,Oriole\n",
      "Bayview Village\n",
      "Silver Hills,York Mills\n",
      "Newtonbrook,Willowdale\n",
      "Willowdale South\n",
      "York Mills West\n",
      "Willowdale West\n",
      "Parkwoods\n",
      "Don Mills North\n",
      "Flemingdon Park,Don Mills South\n",
      "Bathurst Manor,Downsview North,Wilson Heights\n",
      "Northwood Park,York University\n",
      "CFB Toronto,Downsview East\n",
      "Downsview West\n",
      "Downsview Central\n",
      "Downsview Northwest\n",
      "Victoria Village\n",
      "Woodbine Gardens,Parkview Hill\n",
      "Woodbine Heights\n",
      "The Beaches\n",
      "Leaside\n",
      "Thorncliffe Park\n",
      "East Toronto\n",
      "The Danforth West,Riverdale\n",
      "The Beaches West,India Bazaar\n",
      "Studio District\n",
      "Lawrence Park\n",
      "Davisville North\n",
      "North Toronto West\n",
      "Davisville\n",
      "Moore Park,Summerhill East\n",
      "Deer Park,Forest Hill SE,Rathnelly,South Hill,Summerhill West\n",
      "Rosedale\n",
      "Cabbagetown,St. James Town\n",
      "Church and Wellesley\n",
      "Harbourfront,Regent Park\n",
      "Ryerson,Garden District\n",
      "St. James Town\n",
      "Berczy Park\n",
      "Central Bay Street\n",
      "Adelaide,King,Richmond\n",
      "Harbourfront East,Toronto Islands,Union Station\n",
      "Design Exchange,Toronto Dominion Centre\n",
      "Commerce Court,Victoria Hotel\n",
      "Bedford Park,Lawrence Manor East\n",
      "Roselawn\n",
      "Forest Hill North,Forest Hill West\n",
      "The Annex,North Midtown,Yorkville\n",
      "Harbord,University of Toronto\n",
      "Chinatown,Grange Park,Kensington Market\n",
      "CN Tower,Bathurst Quay,Island airport,Harbourfront West,King and Spadina,Railway Lands,South Niagara\n",
      "Stn A PO Boxes 25 The Esplanade\n",
      "First Canadian Place,Underground city\n",
      "Lawrence Heights,Lawrence Manor\n",
      "Glencairn\n",
      "Humewood-Cedarvale\n",
      "Caledonia-Fairbanks\n",
      "Christie\n",
      "Dovercourt Village,Dufferin\n",
      "Little Portugal,Trinity\n",
      "Brockton,Exhibition Place,Parkdale Village\n",
      "Downsview,North Park,Upwood Park\n",
      "Del Ray,Keelesdale,Mount Dennis,Silverthorn\n",
      "The Junction North,Runnymede\n",
      "High Park,The Junction South\n",
      "Parkdale,Roncesvalles\n",
      "Runnymede,Swansea\n",
      "Queen's Park\n",
      "Canada Post Gateway Processing Centre\n",
      "Business Reply Mail Processing Centre 969 Eastern\n",
      "Humber Bay Shores,Mimico South,New Toronto\n",
      "Alderwood,Long Branch\n",
      "The Kingsway,Montgomery Road,Old Mill North\n",
      "Humber Bay,King's Mill Park,Kingsway Park South East,Mimico NE,Old Mill South,The Queensway East,Royal York South East,Sunnylea\n",
      "Kingsway Park South West,Mimico NW,The Queensway West,Royal York South West,South of Bloor\n",
      "Islington Avenue\n",
      "Cloverdale,Islington,Martin Grove,Princess Gardens,West Deane Park\n",
      "Bloordale Gardens,Eringate,Markland Wood,Old Burnhamthorpe\n",
      "Humber Summit\n",
      "Emery,Humberlea\n",
      "Weston\n",
      "Westmount\n",
      "Kingsview Village,Martin Grove Gardens,Richview Gardens,St. Phillips\n",
      "Albion Gardens,Beaumond Heights,Humbergate,Jamestown,Mount Olive,Silverstone,South Steeles,Thistletown\n",
      "Northwest\n"
     ]
    }
   ],
   "source": [
    "#calling the function to get nearby venues\n",
    "toronto_venues = getNearbyVenues(names=postalcode_df['Neighbourhood'],\n",
    "                                   latitudes=postalcode_df['Latitude'],\n",
    "                                   longitudes=postalcode_df['Longitude']\n",
    "                                  )\n"
   ]
  },
  {
   "cell_type": "code",
   "execution_count": null,
   "metadata": {},
   "outputs": [],
   "source": [
    "#viewing the df \n",
    "print(toronto_venues.shape)\n",
    "toronto_venues.head()"
   ]
  },
  {
   "cell_type": "code",
   "execution_count": null,
   "metadata": {},
   "outputs": [],
   "source": [
    "#getting an idea of how many venues that were returned for each neighborhood\n",
    "toronto_venues.groupby('Neighborhood').count().sort_values(by=\"Neighborhood\", ascending=False).head()"
   ]
  },
  {
   "cell_type": "code",
   "execution_count": null,
   "metadata": {},
   "outputs": [],
   "source": [
    "unique_categories = len(toronto_venues['Venue Category'].unique())\n",
    "print(f'There are {unique_categories} uniques categories')"
   ]
  },
  {
   "cell_type": "code",
   "execution_count": null,
   "metadata": {},
   "outputs": [],
   "source": [
    "# one hot encoding to convert strings to numerical values\n",
    "toronto_onehot = pd.get_dummies(toronto_venues[['Venue Category']], prefix=\"\", prefix_sep=\"\")\n",
    "\n",
    "# add neighborhood column back to dataframe\n",
    "toronto_onehot['Neighborhood'] = toronto_venues['Neighborhood'] \n",
    "\n",
    "#move neighborhood column to the first column\n",
    "fixed_columns = [toronto_onehot.columns[-1]] + list(toronto_onehot.columns[:-1])\n",
    "toronto_onehot = toronto_onehot[fixed_columns]\n",
    "\n",
    "toronto_onehot.head()"
   ]
  },
  {
   "cell_type": "code",
   "execution_count": null,
   "metadata": {},
   "outputs": [],
   "source": [
    "toronto_grouped = toronto_onehot.groupby('Neighborhood').mean().reset_index()\n",
    "toronto_grouped.head()\n",
    "# toronto_venues.head()"
   ]
  },
  {
   "cell_type": "code",
   "execution_count": null,
   "metadata": {},
   "outputs": [],
   "source": [
    "toronto_grouped.shape"
   ]
  },
  {
   "cell_type": "markdown",
   "metadata": {},
   "source": [
    "<h5>Displaying neighbourhoods and their top 5 venues</h5>"
   ]
  },
  {
   "cell_type": "code",
   "execution_count": null,
   "metadata": {
    "scrolled": true
   },
   "outputs": [],
   "source": [
    "num_top_venues = 5\n",
    "\n",
    "for hood in (toronto_grouped['Neighborhood']):\n",
    "    print(f\"----{hood}----\")\n",
    "    temp = toronto_grouped[toronto_grouped['Neighborhood'] == hood].T.reset_index()\n",
    "    temp.columns = ['venue','freq']\n",
    "    temp = temp.iloc[1:]\n",
    "    temp['freq'] = temp['freq'].astype(float)\n",
    "    temp = temp.round({'freq': 2})\n",
    "    print(temp.sort_values('freq', ascending=False).reset_index(drop=True).head(num_top_venues))\n",
    "    print('\\n')"
   ]
  },
  {
   "cell_type": "code",
   "execution_count": null,
   "metadata": {},
   "outputs": [],
   "source": [
    "def return_most_common_venues(row, num_top_venues):\n",
    "    row_categories = row.iloc[1:]\n",
    "    row_categories_sorted = row_categories.sort_values(ascending=False)\n",
    "    \n",
    "    return row_categories_sorted.index.values[0:num_top_venues]"
   ]
  },
  {
   "cell_type": "code",
   "execution_count": null,
   "metadata": {},
   "outputs": [],
   "source": [
    "num_top_venues = 10\n",
    "\n",
    "indicators = ['st', 'nd', 'rd']\n",
    "\n",
    "# create columns according to number of top venues\n",
    "columns = ['Neighborhood']\n",
    "for ind in np.arange(num_top_venues):\n",
    "    try:\n",
    "        columns.append('{}{} Most Common Venue'.format(ind+1, indicators[ind]))\n",
    "    except:\n",
    "        columns.append('{}th Most Common Venue'.format(ind+1))\n",
    "\n",
    "# create a new dataframe\n",
    "neighborhoods_venues_sorted = pd.DataFrame(columns=columns)\n",
    "neighborhoods_venues_sorted['Neighborhood'] = toronto_grouped['Neighborhood']\n",
    "\n",
    "for ind in np.arange(toronto_grouped.shape[0]):\n",
    "    neighborhoods_venues_sorted.iloc[ind, 1:] = return_most_common_venues(toronto_grouped.iloc[ind, :], num_top_venues)\n",
    "\n",
    "neighborhoods_venues_sorted.head()"
   ]
  },
  {
   "cell_type": "code",
   "execution_count": null,
   "metadata": {},
   "outputs": [],
   "source": [
    "# set number of clusters\n",
    "kclusters = 5\n",
    "\n",
    "toronto_grouped_clustering = toronto_grouped.drop('Neighborhood', 1)\n",
    "\n",
    "# run k-means clustering\n",
    "kmeans = KMeans(n_clusters=kclusters, random_state=0).fit(toronto_grouped_clustering)\n",
    "\n",
    "# check cluster label"
   ]
  },
  {
   "cell_type": "code",
   "execution_count": null,
   "metadata": {},
   "outputs": [],
   "source": [
    "# add clustering labels\n",
    "neighborhoods_venues_sorted.insert(0, 'Cluster Labels', kmeans.labels_)\n",
    "\n",
    "toronto_merged = postalcode_df\n",
    "\n",
    "# merge toronto_grouped with toronto_data to add latitude/longitude for each neighborhood\n",
    "toronto_merged = toronto_merged.join(neighborhoods_venues_sorted.set_index('Neighborhood'), on='Neighborhood')\n",
    "\n",
    "toronto_merged.head() # check the last columns!"
   ]
  },
  {
   "cell_type": "code",
   "execution_count": null,
   "metadata": {},
   "outputs": [],
   "source": [
    "# create map\n",
    "tor_map_clusters = folium.Map(location=[43.651070, -79.347015], tiles='Stamen Terrain', zoom_start=10)\n",
    "\n",
    "# set color scheme for the clusters\n",
    "x = np.arange(kclusters)\n",
    "ys = [i + x + (i*x)**2 for i in range(kclusters)]\n",
    "colors_array = cm.rainbow(np.linspace(0, 1, len(ys)))\n",
    "rainbow = [colors.rgb2hex(i) for i in colors_array]\n",
    "\n",
    "# add markers to the map\n",
    "markers_colors = []\n",
    "for lat, lon, poi, cluster in zip(postalcode_df['Latitude'], postalcode_df['Longitude'], postalcode_df['Neighborhood'], postalcode_df['Cluster Labels']):\n",
    "    label = folium.Popup(str(poi) + ' Cluster ' + str(cluster), parse_html=True)\n",
    "    folium.CircleMarker(\n",
    "        [lat, lon],\n",
    "        radius=5,\n",
    "        popup=label,\n",
    "        color=rainbow[cluster-1],\n",
    "        fill=True,\n",
    "        fill_color=rainbow[cluster-1],\n",
    "        fill_opacity=0.7).add_to(tor_map_clusters)\n",
    "       \n",
    "tor_map_clusters"
   ]
  },
  {
   "cell_type": "code",
   "execution_count": null,
   "metadata": {},
   "outputs": [],
   "source": []
  }
 ],
 "metadata": {
  "kernelspec": {
   "display_name": "Python 3",
   "language": "python",
   "name": "python3"
  },
  "language_info": {
   "codemirror_mode": {
    "name": "ipython",
    "version": 3
   },
   "file_extension": ".py",
   "mimetype": "text/x-python",
   "name": "python",
   "nbconvert_exporter": "python",
   "pygments_lexer": "ipython3",
   "version": "3.7.3"
  }
 },
 "nbformat": 4,
 "nbformat_minor": 2
}
