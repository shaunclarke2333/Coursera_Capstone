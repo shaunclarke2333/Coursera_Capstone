{
 "cells": [
  {
   "cell_type": "code",
   "execution_count": 28,
   "metadata": {},
   "outputs": [],
   "source": [
    "#importing depedencies\n",
    "import pandas as pd"
   ]
  },
  {
   "cell_type": "code",
   "execution_count": 29,
   "metadata": {},
   "outputs": [],
   "source": [
    "#pulled canada postal code table from website into dataframe\n",
    "url=\"https://en.wikipedia.org/wiki/List_of_postal_codes_of_Canada:_M\"\n",
    "tables = pd.read_html(url)\n",
    "table_df = tables[0]"
   ]
  },
  {
   "cell_type": "code",
   "execution_count": 30,
   "metadata": {},
   "outputs": [
    {
     "data": {
      "text/html": [
       "<div>\n",
       "<style scoped>\n",
       "    .dataframe tbody tr th:only-of-type {\n",
       "        vertical-align: middle;\n",
       "    }\n",
       "\n",
       "    .dataframe tbody tr th {\n",
       "        vertical-align: top;\n",
       "    }\n",
       "\n",
       "    .dataframe thead th {\n",
       "        text-align: right;\n",
       "    }\n",
       "</style>\n",
       "<table border=\"1\" class=\"dataframe\">\n",
       "  <thead>\n",
       "    <tr style=\"text-align: right;\">\n",
       "      <th></th>\n",
       "      <th>Postcode</th>\n",
       "      <th>Borough</th>\n",
       "      <th>Neighbourhood</th>\n",
       "    </tr>\n",
       "  </thead>\n",
       "  <tbody>\n",
       "    <tr>\n",
       "      <th>0</th>\n",
       "      <td>M1A</td>\n",
       "      <td>Not assigned</td>\n",
       "      <td>Not assigned</td>\n",
       "    </tr>\n",
       "    <tr>\n",
       "      <th>1</th>\n",
       "      <td>M2A</td>\n",
       "      <td>Not assigned</td>\n",
       "      <td>Not assigned</td>\n",
       "    </tr>\n",
       "  </tbody>\n",
       "</table>\n",
       "</div>"
      ],
      "text/plain": [
       "  Postcode       Borough Neighbourhood\n",
       "0      M1A  Not assigned  Not assigned\n",
       "1      M2A  Not assigned  Not assigned"
      ]
     },
     "execution_count": 30,
     "metadata": {},
     "output_type": "execute_result"
    }
   ],
   "source": [
    "#display first 2 columns of the postalcode df\n",
    "table_df.head(2)"
   ]
  },
  {
   "cell_type": "code",
   "execution_count": 31,
   "metadata": {},
   "outputs": [],
   "source": [
    "# chancge column name from Postcode to PostalCode\n",
    "table_df = table_df.rename(columns={\"Postcode\":\"PostalCode\"})"
   ]
  },
  {
   "cell_type": "code",
   "execution_count": 32,
   "metadata": {},
   "outputs": [],
   "source": [
    "# removing rows where the Borough is unassigned\n",
    "table_df=table_df[table_df[\"Borough\"]!= \"Not assigned\"]"
   ]
  },
  {
   "cell_type": "code",
   "execution_count": 33,
   "metadata": {},
   "outputs": [
    {
     "data": {
      "text/html": [
       "<div>\n",
       "<style scoped>\n",
       "    .dataframe tbody tr th:only-of-type {\n",
       "        vertical-align: middle;\n",
       "    }\n",
       "\n",
       "    .dataframe tbody tr th {\n",
       "        vertical-align: top;\n",
       "    }\n",
       "\n",
       "    .dataframe thead th {\n",
       "        text-align: right;\n",
       "    }\n",
       "</style>\n",
       "<table border=\"1\" class=\"dataframe\">\n",
       "  <thead>\n",
       "    <tr style=\"text-align: right;\">\n",
       "      <th></th>\n",
       "      <th>PostalCode</th>\n",
       "      <th>Borough</th>\n",
       "      <th>Neighbourhood</th>\n",
       "    </tr>\n",
       "  </thead>\n",
       "  <tbody>\n",
       "    <tr>\n",
       "      <th>2</th>\n",
       "      <td>M3A</td>\n",
       "      <td>North York</td>\n",
       "      <td>Parkwoods</td>\n",
       "    </tr>\n",
       "    <tr>\n",
       "      <th>3</th>\n",
       "      <td>M4A</td>\n",
       "      <td>North York</td>\n",
       "      <td>Victoria Village</td>\n",
       "    </tr>\n",
       "    <tr>\n",
       "      <th>4</th>\n",
       "      <td>M5A</td>\n",
       "      <td>Downtown Toronto</td>\n",
       "      <td>Harbourfront</td>\n",
       "    </tr>\n",
       "  </tbody>\n",
       "</table>\n",
       "</div>"
      ],
      "text/plain": [
       "  PostalCode           Borough     Neighbourhood\n",
       "2        M3A        North York         Parkwoods\n",
       "3        M4A        North York  Victoria Village\n",
       "4        M5A  Downtown Toronto      Harbourfront"
      ]
     },
     "execution_count": 33,
     "metadata": {},
     "output_type": "execute_result"
    }
   ],
   "source": [
    "table_df.head(3)"
   ]
  },
  {
   "cell_type": "code",
   "execution_count": 34,
   "metadata": {},
   "outputs": [
    {
     "data": {
      "text/html": [
       "<div>\n",
       "<style scoped>\n",
       "    .dataframe tbody tr th:only-of-type {\n",
       "        vertical-align: middle;\n",
       "    }\n",
       "\n",
       "    .dataframe tbody tr th {\n",
       "        vertical-align: top;\n",
       "    }\n",
       "\n",
       "    .dataframe thead th {\n",
       "        text-align: right;\n",
       "    }\n",
       "</style>\n",
       "<table border=\"1\" class=\"dataframe\">\n",
       "  <thead>\n",
       "    <tr style=\"text-align: right;\">\n",
       "      <th></th>\n",
       "      <th></th>\n",
       "      <th>Neighbourhood</th>\n",
       "    </tr>\n",
       "    <tr>\n",
       "      <th>PostalCode</th>\n",
       "      <th>Borough</th>\n",
       "      <th></th>\n",
       "    </tr>\n",
       "  </thead>\n",
       "  <tbody>\n",
       "    <tr>\n",
       "      <th>M3A</th>\n",
       "      <th>North York</th>\n",
       "      <td>Parkwoods</td>\n",
       "    </tr>\n",
       "    <tr>\n",
       "      <th>M4A</th>\n",
       "      <th>North York</th>\n",
       "      <td>Victoria Village</td>\n",
       "    </tr>\n",
       "    <tr>\n",
       "      <th>M5A</th>\n",
       "      <th>Downtown Toronto</th>\n",
       "      <td>Harbourfront,Regent Park</td>\n",
       "    </tr>\n",
       "    <tr>\n",
       "      <th>M6A</th>\n",
       "      <th>North York</th>\n",
       "      <td>Lawrence Heights,Lawrence Manor</td>\n",
       "    </tr>\n",
       "    <tr>\n",
       "      <th>M7A</th>\n",
       "      <th>Queen's Park</th>\n",
       "      <td>Not assigned</td>\n",
       "    </tr>\n",
       "  </tbody>\n",
       "</table>\n",
       "</div>"
      ],
      "text/plain": [
       "                                               Neighbourhood\n",
       "PostalCode Borough                                          \n",
       "M3A        North York                              Parkwoods\n",
       "M4A        North York                       Victoria Village\n",
       "M5A        Downtown Toronto         Harbourfront,Regent Park\n",
       "M6A        North York        Lawrence Heights,Lawrence Manor\n",
       "M7A        Queen's Park                         Not assigned"
      ]
     },
     "execution_count": 34,
     "metadata": {},
     "output_type": "execute_result"
    }
   ],
   "source": [
    "# grouping by postalcode and concatinating neighbourhood comma separated.\n",
    "table_df_concat = table_df.groupby(['PostalCode','Borough'], sort=False).agg( ','.join)\n",
    "table_df_concat.head()"
   ]
  },
  {
   "cell_type": "code",
   "execution_count": 35,
   "metadata": {},
   "outputs": [],
   "source": [
    "# resetting table index\n",
    "table_df_concat = table_df_concat.reset_index()"
   ]
  },
  {
   "cell_type": "code",
   "execution_count": 36,
   "metadata": {},
   "outputs": [
    {
     "data": {
      "text/html": [
       "<div>\n",
       "<style scoped>\n",
       "    .dataframe tbody tr th:only-of-type {\n",
       "        vertical-align: middle;\n",
       "    }\n",
       "\n",
       "    .dataframe tbody tr th {\n",
       "        vertical-align: top;\n",
       "    }\n",
       "\n",
       "    .dataframe thead th {\n",
       "        text-align: right;\n",
       "    }\n",
       "</style>\n",
       "<table border=\"1\" class=\"dataframe\">\n",
       "  <thead>\n",
       "    <tr style=\"text-align: right;\">\n",
       "      <th></th>\n",
       "      <th>PostalCode</th>\n",
       "      <th>Borough</th>\n",
       "      <th>Neighbourhood</th>\n",
       "    </tr>\n",
       "  </thead>\n",
       "  <tbody>\n",
       "    <tr>\n",
       "      <th>8</th>\n",
       "      <td>M7A</td>\n",
       "      <td>Queen's Park</td>\n",
       "      <td>Not assigned</td>\n",
       "    </tr>\n",
       "  </tbody>\n",
       "</table>\n",
       "</div>"
      ],
      "text/plain": [
       "  PostalCode       Borough Neighbourhood\n",
       "8        M7A  Queen's Park  Not assigned"
      ]
     },
     "execution_count": 36,
     "metadata": {},
     "output_type": "execute_result"
    }
   ],
   "source": [
    "#filtering by neighbourhood that is not assigned\n",
    "no_neigh=table_df[table_df[\"Neighbourhood\"]== \"Not assigned\"]\n",
    "no_neigh"
   ]
  },
  {
   "cell_type": "code",
   "execution_count": 37,
   "metadata": {},
   "outputs": [],
   "source": [
    "#populating Not assigned cell in the neighbourhood column with a value\n",
    "table_df_concat.at[4, \"Neighbourhood\"]= \"Queen's Park\""
   ]
  },
  {
   "cell_type": "code",
   "execution_count": 41,
   "metadata": {},
   "outputs": [
    {
     "data": {
      "text/html": [
       "<div>\n",
       "<style scoped>\n",
       "    .dataframe tbody tr th:only-of-type {\n",
       "        vertical-align: middle;\n",
       "    }\n",
       "\n",
       "    .dataframe tbody tr th {\n",
       "        vertical-align: top;\n",
       "    }\n",
       "\n",
       "    .dataframe thead th {\n",
       "        text-align: right;\n",
       "    }\n",
       "</style>\n",
       "<table border=\"1\" class=\"dataframe\">\n",
       "  <thead>\n",
       "    <tr style=\"text-align: right;\">\n",
       "      <th></th>\n",
       "      <th>PostalCode</th>\n",
       "      <th>Borough</th>\n",
       "      <th>Neighbourhood</th>\n",
       "    </tr>\n",
       "  </thead>\n",
       "  <tbody>\n",
       "    <tr>\n",
       "      <th>0</th>\n",
       "      <td>M3A</td>\n",
       "      <td>North York</td>\n",
       "      <td>Parkwoods</td>\n",
       "    </tr>\n",
       "    <tr>\n",
       "      <th>1</th>\n",
       "      <td>M4A</td>\n",
       "      <td>North York</td>\n",
       "      <td>Victoria Village</td>\n",
       "    </tr>\n",
       "    <tr>\n",
       "      <th>2</th>\n",
       "      <td>M5A</td>\n",
       "      <td>Downtown Toronto</td>\n",
       "      <td>Harbourfront,Regent Park</td>\n",
       "    </tr>\n",
       "    <tr>\n",
       "      <th>3</th>\n",
       "      <td>M6A</td>\n",
       "      <td>North York</td>\n",
       "      <td>Lawrence Heights,Lawrence Manor</td>\n",
       "    </tr>\n",
       "    <tr>\n",
       "      <th>4</th>\n",
       "      <td>M7A</td>\n",
       "      <td>Queen's Park</td>\n",
       "      <td>Queen's Park</td>\n",
       "    </tr>\n",
       "  </tbody>\n",
       "</table>\n",
       "</div>"
      ],
      "text/plain": [
       "  PostalCode           Borough                    Neighbourhood\n",
       "0        M3A        North York                        Parkwoods\n",
       "1        M4A        North York                 Victoria Village\n",
       "2        M5A  Downtown Toronto         Harbourfront,Regent Park\n",
       "3        M6A        North York  Lawrence Heights,Lawrence Manor\n",
       "4        M7A      Queen's Park                     Queen's Park"
      ]
     },
     "execution_count": 41,
     "metadata": {},
     "output_type": "execute_result"
    }
   ],
   "source": [
    "#viewing changes made to \n",
    "table_df_concat.head()"
   ]
  },
  {
   "cell_type": "code",
   "execution_count": 42,
   "metadata": {},
   "outputs": [
    {
     "data": {
      "text/plain": [
       "(103, 3)"
      ]
     },
     "execution_count": 42,
     "metadata": {},
     "output_type": "execute_result"
    }
   ],
   "source": [
    "table_df_concat.shape"
   ]
  },
  {
   "cell_type": "code",
   "execution_count": 43,
   "metadata": {},
   "outputs": [
    {
     "data": {
      "text/html": [
       "<div>\n",
       "<style scoped>\n",
       "    .dataframe tbody tr th:only-of-type {\n",
       "        vertical-align: middle;\n",
       "    }\n",
       "\n",
       "    .dataframe tbody tr th {\n",
       "        vertical-align: top;\n",
       "    }\n",
       "\n",
       "    .dataframe thead th {\n",
       "        text-align: right;\n",
       "    }\n",
       "</style>\n",
       "<table border=\"1\" class=\"dataframe\">\n",
       "  <thead>\n",
       "    <tr style=\"text-align: right;\">\n",
       "      <th></th>\n",
       "      <th>PostalCode</th>\n",
       "      <th>Latitude</th>\n",
       "      <th>Longitude</th>\n",
       "    </tr>\n",
       "  </thead>\n",
       "  <tbody>\n",
       "    <tr>\n",
       "      <th>0</th>\n",
       "      <td>M1B</td>\n",
       "      <td>43.806686</td>\n",
       "      <td>-79.194353</td>\n",
       "    </tr>\n",
       "    <tr>\n",
       "      <th>1</th>\n",
       "      <td>M1C</td>\n",
       "      <td>43.784535</td>\n",
       "      <td>-79.160497</td>\n",
       "    </tr>\n",
       "    <tr>\n",
       "      <th>2</th>\n",
       "      <td>M1E</td>\n",
       "      <td>43.763573</td>\n",
       "      <td>-79.188711</td>\n",
       "    </tr>\n",
       "  </tbody>\n",
       "</table>\n",
       "</div>"
      ],
      "text/plain": [
       "  PostalCode   Latitude  Longitude\n",
       "0        M1B  43.806686 -79.194353\n",
       "1        M1C  43.784535 -79.160497\n",
       "2        M1E  43.763573 -79.188711"
      ]
     },
     "execution_count": 43,
     "metadata": {},
     "output_type": "execute_result"
    }
   ],
   "source": [
    "#importing lat long csv into dataframe\n",
    "url2=\"https://cocl.us/Geospatial_data\"\n",
    "csv = pd.read_csv(url2)\n",
    "lat_long_df = csv\n",
    "# chancge column name from Postal Code to PostalCode\n",
    "lat_long_df = lat_long_df.rename(columns={\"Postal Code\":\"PostalCode\"})\n",
    "lat_long_df.head(3)"
   ]
  },
  {
   "cell_type": "code",
   "execution_count": 44,
   "metadata": {},
   "outputs": [],
   "source": [
    "# merging postal dataframes on postal code column to create new table with lat long\n",
    "postalcode_df = pd.merge(lat_long_df, table_df_concat, on=\"PostalCode\")"
   ]
  },
  {
   "cell_type": "code",
   "execution_count": 45,
   "metadata": {},
   "outputs": [
    {
     "data": {
      "text/html": [
       "<div>\n",
       "<style scoped>\n",
       "    .dataframe tbody tr th:only-of-type {\n",
       "        vertical-align: middle;\n",
       "    }\n",
       "\n",
       "    .dataframe tbody tr th {\n",
       "        vertical-align: top;\n",
       "    }\n",
       "\n",
       "    .dataframe thead th {\n",
       "        text-align: right;\n",
       "    }\n",
       "</style>\n",
       "<table border=\"1\" class=\"dataframe\">\n",
       "  <thead>\n",
       "    <tr style=\"text-align: right;\">\n",
       "      <th></th>\n",
       "      <th>PostalCode</th>\n",
       "      <th>Borough</th>\n",
       "      <th>Neighbourhood</th>\n",
       "      <th>Latitude</th>\n",
       "      <th>Longitude</th>\n",
       "    </tr>\n",
       "  </thead>\n",
       "  <tbody>\n",
       "    <tr>\n",
       "      <th>0</th>\n",
       "      <td>M1B</td>\n",
       "      <td>Scarborough</td>\n",
       "      <td>Rouge,Malvern</td>\n",
       "      <td>43.806686</td>\n",
       "      <td>-79.194353</td>\n",
       "    </tr>\n",
       "    <tr>\n",
       "      <th>1</th>\n",
       "      <td>M1C</td>\n",
       "      <td>Scarborough</td>\n",
       "      <td>Highland Creek,Rouge Hill,Port Union</td>\n",
       "      <td>43.784535</td>\n",
       "      <td>-79.160497</td>\n",
       "    </tr>\n",
       "    <tr>\n",
       "      <th>2</th>\n",
       "      <td>M1E</td>\n",
       "      <td>Scarborough</td>\n",
       "      <td>Guildwood,Morningside,West Hill</td>\n",
       "      <td>43.763573</td>\n",
       "      <td>-79.188711</td>\n",
       "    </tr>\n",
       "    <tr>\n",
       "      <th>3</th>\n",
       "      <td>M1G</td>\n",
       "      <td>Scarborough</td>\n",
       "      <td>Woburn</td>\n",
       "      <td>43.770992</td>\n",
       "      <td>-79.216917</td>\n",
       "    </tr>\n",
       "    <tr>\n",
       "      <th>4</th>\n",
       "      <td>M1H</td>\n",
       "      <td>Scarborough</td>\n",
       "      <td>Cedarbrae</td>\n",
       "      <td>43.773136</td>\n",
       "      <td>-79.239476</td>\n",
       "    </tr>\n",
       "  </tbody>\n",
       "</table>\n",
       "</div>"
      ],
      "text/plain": [
       "  PostalCode      Borough                         Neighbourhood   Latitude  \\\n",
       "0        M1B  Scarborough                         Rouge,Malvern  43.806686   \n",
       "1        M1C  Scarborough  Highland Creek,Rouge Hill,Port Union  43.784535   \n",
       "2        M1E  Scarborough       Guildwood,Morningside,West Hill  43.763573   \n",
       "3        M1G  Scarborough                                Woburn  43.770992   \n",
       "4        M1H  Scarborough                             Cedarbrae  43.773136   \n",
       "\n",
       "   Longitude  \n",
       "0 -79.194353  \n",
       "1 -79.160497  \n",
       "2 -79.188711  \n",
       "3 -79.216917  \n",
       "4 -79.239476  "
      ]
     },
     "execution_count": 45,
     "metadata": {},
     "output_type": "execute_result"
    }
   ],
   "source": [
    "# rearranged dataframe columns\n",
    "postalcode_df = postalcode_df[[\"PostalCode\", \"Borough\", \"Neighbourhood\", \"Latitude\", \"Longitude\"]]\n",
    "postalcode_df.head()"
   ]
  },
  {
   "cell_type": "code",
   "execution_count": 46,
   "metadata": {},
   "outputs": [],
   "source": [
    "postalcode_df = postalcode_df.drop(columns = [\"PostalCode\"])"
   ]
  },
  {
   "cell_type": "code",
   "execution_count": 47,
   "metadata": {},
   "outputs": [],
   "source": [
    "# imported folium for map rendering \n",
    "import folium"
   ]
  },
  {
   "cell_type": "code",
   "execution_count": 48,
   "metadata": {
    "scrolled": true
   },
   "outputs": [
    {
     "data": {
      "text/html": [
       "<div style=\"width:100%;\"><div style=\"position:relative;width:100%;height:0;padding-bottom:60%;\"><iframe src=\"data:text/html;charset=utf-8;base64,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\" style=\"position:absolute;width:100%;height:100%;left:0;top:0;border:none !important;\" allowfullscreen webkitallowfullscreen mozallowfullscreen></iframe></div></div>"
      ],
      "text/plain": [
       "<folium.folium.Map at 0x19aaf8e3898>"
      ]
     },
     "execution_count": 48,
     "metadata": {},
     "output_type": "execute_result"
    }
   ],
   "source": [
    "#Generating initial map\n",
    "map_toronto = folium.Map(location=[43.651070, -79.347015], tiles='Stamen Terrain', zoom_start=10)\n",
    "map_toronto\n",
    "\n",
    "# adding markers to map of tornoto Canada\n",
    "for lat, lng, borough, neighborhood in zip(postalcode_df['Latitude'], \\\n",
    "                                           postalcode_df['Longitude'], \\\n",
    "                                           postalcode_df['Borough'], \\\n",
    "                                           postalcode_df['Neighbourhood']):\n",
    "    label = '{}, {}'.format(neighborhood, borough)\n",
    "    label = folium.Popup(label, parse_html=True)\n",
    "    folium.CircleMarker(\n",
    "        [lat, lng],\n",
    "        radius=5,\n",
    "        popup=label,\n",
    "        color='red',\n",
    "        fill=True,\n",
    "        fill_color='#3186cc',\n",
    "        fill_opacity=0.7,\n",
    "        parse_html=False).add_to(map_toronto)  \n",
    "    \n",
    "map_toronto"
   ]
  },
  {
   "cell_type": "code",
   "execution_count": 49,
   "metadata": {},
   "outputs": [],
   "source": [
    "#importing client ID and client secret from config file. used this method so i can use git ignore to protect api key\n",
    "from config import client_id, client_secret"
   ]
  },
  {
   "cell_type": "code",
   "execution_count": 50,
   "metadata": {},
   "outputs": [],
   "source": [
    "# creating API variables\n",
    "CLIENT_ID = client_id \n",
    "CLIENT_SECRET = client_secret \n",
    "VERSION = '20180605' "
   ]
  },
  {
   "cell_type": "code",
   "execution_count": 51,
   "metadata": {},
   "outputs": [],
   "source": [
    "#importing required libraries\n",
    "from sklearn.cluster import KMeans\n",
    "import numpy as np\n",
    "import requests"
   ]
  },
  {
   "cell_type": "code",
   "execution_count": 52,
   "metadata": {},
   "outputs": [],
   "source": [
    "#the function below pulls the top 100 venues within a 500m radius of toronto neighborhoods\n",
    "def getNearbyVenues(names, latitudes, longitudes, LIMIT=100, radius=500):\n",
    "    \n",
    "    venues_list=[]\n",
    "    for name, lat, lng in zip(names, latitudes, longitudes):\n",
    "        print(name)\n",
    "            \n",
    "        # create the API request URL\n",
    "        url = 'https://api.foursquare.com/v2/venues/explore?&client_id={}&client_secret={}&v={}&ll={},{}&radius={}&limit={}'.format(\n",
    "            CLIENT_ID, \n",
    "            CLIENT_SECRET, \n",
    "            VERSION, \n",
    "            lat, \n",
    "            lng, \n",
    "            radius, \n",
    "            LIMIT)\n",
    "            \n",
    "        # make the GET request\n",
    "        results = requests.get(url).json()[\"response\"]['groups'][0]['items']\n",
    "        \n",
    "        # return only relevant information for each nearby venue\n",
    "        venues_list.append([(\n",
    "            name, \n",
    "            lat, \n",
    "            lng, \n",
    "            v['venue']['name'], \n",
    "            v['venue']['location']['lat'], \n",
    "            v['venue']['location']['lng'],  \n",
    "            v['venue']['categories'][0]['name']) for v in results])\n",
    "\n",
    "    nearby_venues = pd.DataFrame([item for venue_list in venues_list for item in venue_list])\n",
    "    nearby_venues.columns = ['Neighborhood', \n",
    "                  'Neighborhood Latitude', \n",
    "                  'Neighborhood Longitude', \n",
    "                  'Venue', \n",
    "                  'Venue Latitude', \n",
    "                  'Venue Longitude', \n",
    "                  'Venue Category']\n",
    "    \n",
    "    return(nearby_venues)"
   ]
  },
  {
   "cell_type": "code",
   "execution_count": 53,
   "metadata": {
    "scrolled": true
   },
   "outputs": [
    {
     "name": "stdout",
     "output_type": "stream",
     "text": [
      "Rouge,Malvern\n",
      "Highland Creek,Rouge Hill,Port Union\n",
      "Guildwood,Morningside,West Hill\n",
      "Woburn\n",
      "Cedarbrae\n",
      "Scarborough Village\n",
      "East Birchmount Park,Ionview,Kennedy Park\n",
      "Clairlea,Golden Mile,Oakridge\n",
      "Cliffcrest,Cliffside,Scarborough Village West\n",
      "Birch Cliff,Cliffside West\n",
      "Dorset Park,Scarborough Town Centre,Wexford Heights\n",
      "Maryvale,Wexford\n",
      "Agincourt\n",
      "Clarks Corners,Sullivan,Tam O'Shanter\n",
      "Agincourt North,L'Amoreaux East,Milliken,Steeles East\n",
      "L'Amoreaux West\n",
      "Upper Rouge\n",
      "Hillcrest Village\n",
      "Fairview,Henry Farm,Oriole\n",
      "Bayview Village\n",
      "Silver Hills,York Mills\n",
      "Newtonbrook,Willowdale\n",
      "Willowdale South\n",
      "York Mills West\n",
      "Willowdale West\n",
      "Parkwoods\n",
      "Don Mills North\n",
      "Flemingdon Park,Don Mills South\n",
      "Bathurst Manor,Downsview North,Wilson Heights\n",
      "Northwood Park,York University\n",
      "CFB Toronto,Downsview East\n",
      "Downsview West\n",
      "Downsview Central\n",
      "Downsview Northwest\n",
      "Victoria Village\n",
      "Woodbine Gardens,Parkview Hill\n",
      "Woodbine Heights\n",
      "The Beaches\n",
      "Leaside\n",
      "Thorncliffe Park\n",
      "East Toronto\n",
      "The Danforth West,Riverdale\n",
      "The Beaches West,India Bazaar\n",
      "Studio District\n",
      "Lawrence Park\n",
      "Davisville North\n",
      "North Toronto West\n",
      "Davisville\n",
      "Moore Park,Summerhill East\n",
      "Deer Park,Forest Hill SE,Rathnelly,South Hill,Summerhill West\n",
      "Rosedale\n",
      "Cabbagetown,St. James Town\n",
      "Church and Wellesley\n",
      "Harbourfront,Regent Park\n",
      "Ryerson,Garden District\n",
      "St. James Town\n",
      "Berczy Park\n",
      "Central Bay Street\n",
      "Adelaide,King,Richmond\n",
      "Harbourfront East,Toronto Islands,Union Station\n",
      "Design Exchange,Toronto Dominion Centre\n",
      "Commerce Court,Victoria Hotel\n",
      "Bedford Park,Lawrence Manor East\n",
      "Roselawn\n",
      "Forest Hill North,Forest Hill West\n",
      "The Annex,North Midtown,Yorkville\n",
      "Harbord,University of Toronto\n",
      "Chinatown,Grange Park,Kensington Market\n",
      "CN Tower,Bathurst Quay,Island airport,Harbourfront West,King and Spadina,Railway Lands,South Niagara\n",
      "Stn A PO Boxes 25 The Esplanade\n",
      "First Canadian Place,Underground city\n",
      "Lawrence Heights,Lawrence Manor\n",
      "Glencairn\n",
      "Humewood-Cedarvale\n",
      "Caledonia-Fairbanks\n",
      "Christie\n",
      "Dovercourt Village,Dufferin\n",
      "Little Portugal,Trinity\n",
      "Brockton,Exhibition Place,Parkdale Village\n",
      "Downsview,North Park,Upwood Park\n",
      "Del Ray,Keelesdale,Mount Dennis,Silverthorn\n",
      "The Junction North,Runnymede\n",
      "High Park,The Junction South\n",
      "Parkdale,Roncesvalles\n",
      "Runnymede,Swansea\n",
      "Queen's Park\n",
      "Canada Post Gateway Processing Centre\n",
      "Business Reply Mail Processing Centre 969 Eastern\n",
      "Humber Bay Shores,Mimico South,New Toronto\n",
      "Alderwood,Long Branch\n",
      "The Kingsway,Montgomery Road,Old Mill North\n",
      "Humber Bay,King's Mill Park,Kingsway Park South East,Mimico NE,Old Mill South,The Queensway East,Royal York South East,Sunnylea\n",
      "Kingsway Park South West,Mimico NW,The Queensway West,Royal York South West,South of Bloor\n",
      "Islington Avenue\n",
      "Cloverdale,Islington,Martin Grove,Princess Gardens,West Deane Park\n",
      "Bloordale Gardens,Eringate,Markland Wood,Old Burnhamthorpe\n",
      "Humber Summit\n",
      "Emery,Humberlea\n",
      "Weston\n",
      "Westmount\n",
      "Kingsview Village,Martin Grove Gardens,Richview Gardens,St. Phillips\n",
      "Albion Gardens,Beaumond Heights,Humbergate,Jamestown,Mount Olive,Silverstone,South Steeles,Thistletown\n",
      "Northwest\n"
     ]
    }
   ],
   "source": [
    "#calling the function to get nearby venues\n",
    "toronto_venues = getNearbyVenues(names=postalcode_df['Neighbourhood'],\n",
    "                                   latitudes=postalcode_df['Latitude'],\n",
    "                                   longitudes=postalcode_df['Longitude']\n",
    "                                  )\n"
   ]
  },
  {
   "cell_type": "code",
   "execution_count": null,
   "metadata": {},
   "outputs": [],
   "source": [
    "#viewing the df \n",
    "print(toronto_venues.shape)\n",
    "toronto_venues.head()"
   ]
  },
  {
   "cell_type": "code",
   "execution_count": null,
   "metadata": {},
   "outputs": [],
   "source": [
    "#getting an idea of how many venues that were returned for each neighborhood\n",
    "toronto_venues.groupby('Neighborhood').count().sort_values(by=\"Neighborhood\", ascending=False).head()"
   ]
  },
  {
   "cell_type": "code",
   "execution_count": null,
   "metadata": {},
   "outputs": [],
   "source": [
    "unique_categories = len(toronto_venues['Venue Category'].unique())\n",
    "print(f'There are {unique_categories} uniques categories')"
   ]
  },
  {
   "cell_type": "code",
   "execution_count": null,
   "metadata": {},
   "outputs": [],
   "source": [
    "# one hot encoding to convert strings to numerical values\n",
    "toronto_onehot = pd.get_dummies(toronto_venues[['Venue Category']], prefix=\"\", prefix_sep=\"\")\n",
    "\n",
    "# add neighborhood column back to dataframe\n",
    "toronto_onehot['Neighborhood'] = toronto_venues['Neighborhood'] \n",
    "\n",
    "#move neighborhood column to the first column\n",
    "fixed_columns = [toronto_onehot.columns[-1]] + list(toronto_onehot.columns[:-1])\n",
    "toronto_onehot = toronto_onehot[fixed_columns]\n",
    "\n",
    "toronto_onehot.head()"
   ]
  },
  {
   "cell_type": "code",
   "execution_count": null,
   "metadata": {},
   "outputs": [],
   "source": [
    "toronto_grouped = toronto_onehot.groupby('Neighborhood').mean().reset_index()\n",
    "toronto_grouped.head()\n",
    "# toronto_venues.head()"
   ]
  },
  {
   "cell_type": "code",
   "execution_count": null,
   "metadata": {},
   "outputs": [],
   "source": [
    "toronto_grouped.shape"
   ]
  },
  {
   "cell_type": "markdown",
   "metadata": {},
   "source": [
    "<h5>Displaying neighbourhoods and their top 5 venues</h5>"
   ]
  },
  {
   "cell_type": "code",
   "execution_count": null,
   "metadata": {
    "scrolled": true
   },
   "outputs": [],
   "source": [
    "num_top_venues = 5\n",
    "\n",
    "for hood in (toronto_grouped['Neighborhood']):\n",
    "    print(f\"----{hood}----\")\n",
    "    temp = toronto_grouped[toronto_grouped['Neighborhood'] == hood].T.reset_index()\n",
    "    temp.columns = ['venue','freq']\n",
    "    temp = temp.iloc[1:]\n",
    "    temp['freq'] = temp['freq'].astype(float)\n",
    "    temp = temp.round({'freq': 2})\n",
    "    print(temp.sort_values('freq', ascending=False).reset_index(drop=True).head(num_top_venues))\n",
    "    print('\\n')"
   ]
  },
  {
   "cell_type": "code",
   "execution_count": null,
   "metadata": {},
   "outputs": [],
   "source": [
    "def return_most_common_venues(row, num_top_venues):\n",
    "    row_categories = row.iloc[1:]\n",
    "    row_categories_sorted = row_categories.sort_values(ascending=False)\n",
    "    \n",
    "    return row_categories_sorted.index.values[0:num_top_venues]"
   ]
  },
  {
   "cell_type": "code",
   "execution_count": null,
   "metadata": {},
   "outputs": [],
   "source": [
    "num_top_venues = 10\n",
    "\n",
    "indicators = ['st', 'nd', 'rd']\n",
    "\n",
    "# create columns according to number of top venues\n",
    "columns = ['Neighborhood']\n",
    "for ind in np.arange(num_top_venues):\n",
    "    try:\n",
    "        columns.append('{}{} Most Common Venue'.format(ind+1, indicators[ind]))\n",
    "    except:\n",
    "        columns.append('{}th Most Common Venue'.format(ind+1))\n",
    "\n",
    "# create a new dataframe\n",
    "neighborhoods_venues_sorted = pd.DataFrame(columns=columns)\n",
    "neighborhoods_venues_sorted['Neighborhood'] = toronto_grouped['Neighborhood']\n",
    "\n",
    "for ind in np.arange(toronto_grouped.shape[0]):\n",
    "    neighborhoods_venues_sorted.iloc[ind, 1:] = return_most_common_venues(toronto_grouped.iloc[ind, :], num_top_venues)\n",
    "\n",
    "neighborhoods_venues_sorted.head()"
   ]
  },
  {
   "cell_type": "code",
   "execution_count": null,
   "metadata": {},
   "outputs": [],
   "source": [
    "# set number of clusters\n",
    "kclusters = 5\n",
    "\n",
    "toronto_grouped_clustering = toronto_grouped.drop('Neighborhood', 1)\n",
    "\n",
    "# run k-means clustering\n",
    "kmeans = KMeans(n_clusters=kclusters, random_state=0).fit(toronto_grouped_clustering)\n",
    "\n",
    "# check cluster label"
   ]
  },
  {
   "cell_type": "code",
   "execution_count": null,
   "metadata": {},
   "outputs": [],
   "source": [
    "# add clustering labels\n",
    "neighborhoods_venues_sorted.insert(0, 'Cluster Labels', kmeans.labels_)\n",
    "\n",
    "toronto_merged = postalcode_df\n",
    "\n",
    "# merge toronto_grouped with toronto_data to add latitude/longitude for each neighborhood\n",
    "toronto_merged = toronto_merged.join(neighborhoods_venues_sorted.set_index('Neighborhood'), on='Neighborhood')\n",
    "\n",
    "toronto_merged.head() # check the last columns!"
   ]
  },
  {
   "cell_type": "code",
   "execution_count": null,
   "metadata": {},
   "outputs": [],
   "source": [
    "# create map\n",
    "tor_map_clusters = folium.Map(location=[43.651070, -79.347015], tiles='Stamen Terrain', zoom_start=10)\n",
    "\n",
    "# set color scheme for the clusters\n",
    "x = np.arange(kclusters)\n",
    "ys = [i + x + (i*x)**2 for i in range(kclusters)]\n",
    "colors_array = cm.rainbow(np.linspace(0, 1, len(ys)))\n",
    "rainbow = [colors.rgb2hex(i) for i in colors_array]\n",
    "\n",
    "# add markers to the map\n",
    "markers_colors = []\n",
    "for lat, lon, poi, cluster in zip(postalcode_df['Latitude'], postalcode_df['Longitude'], postalcode_df['Neighborhood'], postalcode_df['Cluster Labels']):\n",
    "    label = folium.Popup(str(poi) + ' Cluster ' + str(cluster), parse_html=True)\n",
    "    folium.CircleMarker(\n",
    "        [lat, lon],\n",
    "        radius=5,\n",
    "        popup=label,\n",
    "        color=rainbow[cluster-1],\n",
    "        fill=True,\n",
    "        fill_color=rainbow[cluster-1],\n",
    "        fill_opacity=0.7).add_to(tor_map_clusters)\n",
    "       \n",
    "tor_map_clusters"
   ]
  },
  {
   "cell_type": "code",
   "execution_count": null,
   "metadata": {},
   "outputs": [],
   "source": []
  }
 ],
 "metadata": {
  "kernelspec": {
   "display_name": "Python 3",
   "language": "python",
   "name": "python3"
  },
  "language_info": {
   "codemirror_mode": {
    "name": "ipython",
    "version": 3
   },
   "file_extension": ".py",
   "mimetype": "text/x-python",
   "name": "python",
   "nbconvert_exporter": "python",
   "pygments_lexer": "ipython3",
   "version": "3.7.3"
  }
 },
 "nbformat": 4,
 "nbformat_minor": 2
}
